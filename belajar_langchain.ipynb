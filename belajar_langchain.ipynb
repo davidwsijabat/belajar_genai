{
 "cells": [
  {
   "cell_type": "code",
   "execution_count": 7,
   "metadata": {},
   "outputs": [],
   "source": [
    "from langchain.chains import LLMChain\n",
    "from langchain.memory import ConversationBufferMemory\n",
    "from langchain.memory import ConversationBufferWindowMemory"
   ]
  },
  {
   "cell_type": "code",
   "execution_count": 8,
   "metadata": {},
   "outputs": [
    {
     "name": "stderr",
     "output_type": "stream",
     "text": [
      "/var/folders/3s/cl50fl5j5_v6_9hxhnrr4y9m0000gp/T/ipykernel_63421/367389194.py:16: LangChainDeprecationWarning: Please see the migration guide at: https://python.langchain.com/docs/versions/migrating_memory/\n",
      "  memory = ConversationBufferWindowMemory(memory_key=\"chat_history\", return_messages=True, k=2)\n"
     ]
    }
   ],
   "source": [
    "from langchain_core.prompts.chat import (\n",
    "    ChatPromptTemplate,\n",
    "    HumanMessagePromptTemplate,\n",
    "    MessagesPlaceholder,\n",
    ")\n",
    "from langchain_groq import ChatGroq\n",
    "\n",
    "prompt = ChatPromptTemplate(\n",
    "    [\n",
    "        MessagesPlaceholder(variable_name=\"chat_history\"),\n",
    "        HumanMessagePromptTemplate.from_template(\"{text}\"),\n",
    "    ]\n",
    ")\n",
    "\n",
    "#memory = ConversationBufferMemory(memory_key=\"chat_history\", return_messages=True)\n",
    "memory = ConversationBufferWindowMemory(memory_key=\"chat_history\", return_messages=True, k=2)\n",
    "\n",
    "model = 'llama3-70b-8192'\n",
    "\n",
    "legacy_chain = LLMChain(\n",
    "    llm=ChatGroq(model=model),\n",
    "    prompt=prompt,\n",
    "    memory=memory,\n",
    ")"
   ]
  },
  {
   "cell_type": "code",
   "execution_count": 9,
   "metadata": {},
   "outputs": [
    {
     "data": {
      "text/plain": [
       "{'text': 'Halo David! Selamat datang! Bagaimana kabar kamu hari ini?',\n",
       " 'chat_history': []}"
      ]
     },
     "execution_count": 9,
     "metadata": {},
     "output_type": "execute_result"
    }
   ],
   "source": [
    "legacy_chain.invoke(\"Halo nama saya David\")"
   ]
  },
  {
   "cell_type": "code",
   "execution_count": 10,
   "metadata": {},
   "outputs": [
    {
     "data": {
      "text/plain": [
       "{'text': 'Kabar baik! Saya hanya AI, jadi saya tidak memiliki perasaan seperti manusia, tapi saya siap membantu kamu dengan apa pun yang kamu butuhkan. Bagaimana bisa saya membantu kamu hari ini, David?',\n",
       " 'chat_history': [HumanMessage(content='Halo nama saya David', additional_kwargs={}, response_metadata={}),\n",
       "  AIMessage(content='Halo David! Selamat datang! Bagaimana kabar kamu hari ini?', additional_kwargs={}, response_metadata={})]}"
      ]
     },
     "execution_count": 10,
     "metadata": {},
     "output_type": "execute_result"
    }
   ],
   "source": [
    "legacy_chain.invoke(\"Apa kabar\")"
   ]
  },
  {
   "cell_type": "code",
   "execution_count": 11,
   "metadata": {},
   "outputs": [
    {
     "data": {
      "text/plain": [
       "{'text': 'Nama kamu adalah David, kan?',\n",
       " 'chat_history': [HumanMessage(content='Halo nama saya David', additional_kwargs={}, response_metadata={}),\n",
       "  AIMessage(content='Halo David! Selamat datang! Bagaimana kabar kamu hari ini?', additional_kwargs={}, response_metadata={}),\n",
       "  HumanMessage(content='Apa kabar', additional_kwargs={}, response_metadata={}),\n",
       "  AIMessage(content='Kabar baik! Saya hanya AI, jadi saya tidak memiliki perasaan seperti manusia, tapi saya siap membantu kamu dengan apa pun yang kamu butuhkan. Bagaimana bisa saya membantu kamu hari ini, David?', additional_kwargs={}, response_metadata={})]}"
      ]
     },
     "execution_count": 11,
     "metadata": {},
     "output_type": "execute_result"
    }
   ],
   "source": [
    "legacy_chain.invoke(\"siapa nama saya?\")"
   ]
  },
  {
   "cell_type": "code",
   "execution_count": 12,
   "metadata": {},
   "outputs": [
    {
     "data": {
      "text/plain": [
       "{'text': 'Maaf, saya salah! Saya tidak tahu nama kamu karena kita baru saja mulai berbicara. Saya tidak memiliki informasi tentang kamu sebelumnya. Bolehkah kamu memperkenalkan diri dan memberitahu saya nama kamu?',\n",
       " 'chat_history': [HumanMessage(content='Apa kabar', additional_kwargs={}, response_metadata={}),\n",
       "  AIMessage(content='Kabar baik! Saya hanya AI, jadi saya tidak memiliki perasaan seperti manusia, tapi saya siap membantu kamu dengan apa pun yang kamu butuhkan. Bagaimana bisa saya membantu kamu hari ini, David?', additional_kwargs={}, response_metadata={}),\n",
       "  HumanMessage(content='siapa nama saya?', additional_kwargs={}, response_metadata={}),\n",
       "  AIMessage(content='Nama kamu adalah David, kan?', additional_kwargs={}, response_metadata={})]}"
      ]
     },
     "execution_count": 12,
     "metadata": {},
     "output_type": "execute_result"
    }
   ],
   "source": [
    "legacy_chain.invoke(\"siapa nama saya?\")"
   ]
  },
  {
   "cell_type": "code",
   "execution_count": null,
   "metadata": {},
   "outputs": [],
   "source": []
  }
 ],
 "metadata": {
  "kernelspec": {
   "display_name": ".venv",
   "language": "python",
   "name": "python3"
  },
  "language_info": {
   "codemirror_mode": {
    "name": "ipython",
    "version": 3
   },
   "file_extension": ".py",
   "mimetype": "text/x-python",
   "name": "python",
   "nbconvert_exporter": "python",
   "pygments_lexer": "ipython3",
   "version": "3.12.9"
  }
 },
 "nbformat": 4,
 "nbformat_minor": 2
}
